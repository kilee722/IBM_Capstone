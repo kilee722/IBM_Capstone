{
 "cells": [
  {
   "cell_type": "code",
   "execution_count": 1,
   "metadata": {},
   "outputs": [
    {
     "name": "stdout",
     "output_type": "stream",
     "text": [
      "                                 OLS Regression Results                                \n",
      "=======================================================================================\n",
      "Dep. Variable:               JP_Sales   R-squared (uncentered):                   0.271\n",
      "Model:                            OLS   Adj. R-squared (uncentered):              0.270\n",
      "Method:                 Least Squares   F-statistic:                              229.6\n",
      "Date:                Tue, 07 Apr 2020   Prob (F-statistic):                   8.78e-168\n",
      "Time:                        00:50:12   Log-Likelihood:                          257.23\n",
      "No. Observations:                2476   AIC:                                     -506.5\n",
      "Df Residuals:                    2472   BIC:                                     -483.2\n",
      "Df Model:                           4                                                  \n",
      "Covariance Type:            nonrobust                                                  \n",
      "==============================================================================\n",
      "                 coef    std err          t      P>|t|      [0.025      0.975]\n",
      "------------------------------------------------------------------------------\n",
      "RPG            0.1264      0.014      9.323      0.000       0.100       0.153\n",
      "Nintendo       0.5027      0.025     20.282      0.000       0.454       0.551\n",
      "3DS            0.1053      0.013      7.828      0.000       0.079       0.132\n",
      "Year        9.762e-06   2.46e-06      3.963      0.000    4.93e-06    1.46e-05\n",
      "==============================================================================\n",
      "Omnibus:                     3710.192   Durbin-Watson:                   2.025\n",
      "Prob(Omnibus):                  0.000   Jarque-Bera (JB):          1565003.155\n",
      "Skew:                           9.051   Prob(JB):                         0.00\n",
      "Kurtosis:                     124.828   Cond. No.                     1.15e+04\n",
      "==============================================================================\n",
      "\n",
      "Warnings:\n",
      "[1] Standard Errors assume that the covariance matrix of the errors is correctly specified.\n",
      "[2] The condition number is large, 1.15e+04. This might indicate that there are\n",
      "strong multicollinearity or other numerical problems.\n"
     ]
    }
   ],
   "source": [
    "import pandas as pd\n",
    "import numpy as np\n",
    "from sklearn.model_selection  import train_test_split\n",
    "from sklearn import metrics\n",
    "import statsmodels.api as sm\n",
    "from sklearn.metrics import *\n",
    "import statsmodels.formula.api as smf\n",
    "import matplotlib.pyplot as plt\n",
    "\n",
    "df = pd.read_csv(\"vgsales_new_OLS1.csv\")\n",
    "\n",
    "df['intercept'] = 1.0\n",
    "df = df[df[\"Year\"] >= 2011] # Year between 2011 - 2015\n",
    "df = df[df[\"Year\"] <= 2015]\n",
    "\n",
    "X = df[['RPG', 'Nintendo','3DS', 'Year']] \n",
    "y = df['JP_Sales']\n",
    "\n",
    "X_train, X_test, y_train, y_test = train_test_split(X, y, test_size=0.30,random_state=109)\n",
    "\n",
    "OLS_model = sm.OLS(y_train,X_train.astype(float)).fit()\n",
    "\n",
    "print(OLS_model.summary())\n",
    "\n",
    "y_pred_test = OLS_model.predict(X_test)\n",
    "\n",
    "y_pred_train = OLS_model.predict(X_train)\n"
   ]
  },
  {
   "cell_type": "code",
   "execution_count": 2,
   "metadata": {},
   "outputs": [
    {
     "data": {
      "image/png": "[encoded data removed]",
      "text/plain": [
       "<Figure size 432x288 with 1 Axes>"
      ]
     },
     "metadata": {
      "needs_background": "light"
     },
     "output_type": "display_data"
    }
   ],
   "source": [
    "plt.scatter(y_test, y_pred_test)\n",
    "plt.xlabel(\"True Values\")\n",
    "plt.ylabel(\"Predictions\")\n",
    "plt.show()"
   ]
  },
  {
   "cell_type": "code",
   "execution_count": 15,
   "metadata": {},
   "outputs": [
    {
     "name": "stdout",
     "output_type": "stream",
     "text": [
      "Mean Absolute Error: 0.22917447944088568\n",
      "Mean Squared Error: 0.2265415900666995\n",
      "Root Mean Squared Error: 0.4759638537396506\n"
     ]
    }
   ],
   "source": [
    "print('Mean Absolute Error:', metrics.mean_absolute_error(y_test, y_pred_test))  \n",
    "print('Mean Squared Error:', metrics.mean_squared_error(y_test, y_pred_test))  \n",
    "print('Root Mean Squared Error:', np.sqrt(metrics.mean_squared_error(y_test, y_pred_test)))"
   ]
  },
  {
   "cell_type": "code",
   "execution_count": null,
   "metadata": {},
   "outputs": [],
   "source": []
  },
  {
   "cell_type": "code",
   "execution_count": 13,
   "metadata": {},
   "outputs": [
    {
     "name": "stdout",
     "output_type": "stream",
     "text": [
      "                                 OLS Regression Results                                \n",
      "=======================================================================================\n",
      "Dep. Variable:               NA_Sales   R-squared (uncentered):                   0.180\n",
      "Model:                            OLS   Adj. R-squared (uncentered):              0.179\n",
      "Method:                 Least Squares   F-statistic:                              136.1\n",
      "Date:                Tue, 07 Apr 2020   Prob (F-statistic):                   3.15e-105\n",
      "Time:                        01:03:55   Log-Likelihood:                         -2297.2\n",
      "No. Observations:                2476   AIC:                                      4602.\n",
      "Df Residuals:                    2472   BIC:                                      4626.\n",
      "Df Model:                           4                                                  \n",
      "Covariance Type:            nonrobust                                                  \n",
      "==============================================================================\n",
      "                 coef    std err          t      P>|t|      [0.025      0.975]\n",
      "------------------------------------------------------------------------------\n",
      "Shooter        0.3713      0.045      8.334      0.000       0.284       0.459\n",
      "X360           0.2375      0.036      6.678      0.000       0.168       0.307\n",
      "EA             0.2491      0.048      5.150      0.000       0.154       0.344\n",
      "Year        7.691e-05   6.92e-06     11.109      0.000    6.33e-05    9.05e-05\n",
      "==============================================================================\n",
      "Omnibus:                     3051.730   Durbin-Watson:                   1.984\n",
      "Prob(Omnibus):                  0.000   Jarque-Bera (JB):           411829.405\n",
      "Skew:                           6.594   Prob(JB):                         0.00\n",
      "Kurtosis:                      64.790   Cond. No.                     8.03e+03\n",
      "==============================================================================\n",
      "\n",
      "Warnings:\n",
      "[1] Standard Errors assume that the covariance matrix of the errors is correctly specified.\n",
      "[2] The condition number is large, 8.03e+03. This might indicate that there are\n",
      "strong multicollinearity or other numerical problems.\n"
     ]
    }
   ],
   "source": [
    "X = df[['Shooter', 'X360',  'EA', 'Year']] \n",
    "y = df['NA_Sales']\n",
    "\n",
    "X_train, X_test, y_train, y_test = train_test_split(X, y, test_size=0.30,random_state=109)\n",
    "\n",
    "OLS_model = sm.OLS(y_train,X_train.astype(float)).fit()\n",
    "\n",
    "print(OLS_model.summary())\n",
    "\n",
    "y_pred_test = OLS_model.predict(X_test)\n",
    "\n",
    "y_pred_train = OLS_model.predict(X_train)"
   ]
  },
  {
   "cell_type": "code",
   "execution_count": 5,
   "metadata": {},
   "outputs": [
    {
     "data": {
      "image/png": "[encoded data removed]",
      "text/plain": [
       "<Figure size 432x288 with 1 Axes>"
      ]
     },
     "metadata": {
      "needs_background": "light"
     },
     "output_type": "display_data"
    }
   ],
   "source": [
    "plt.scatter(y_test, y_pred_test)\n",
    "plt.xlabel(\"True Values\")\n",
    "plt.ylabel(\"Predictions\")\n",
    "plt.show()"
   ]
  },
  {
   "cell_type": "code",
   "execution_count": 14,
   "metadata": {},
   "outputs": [
    {
     "name": "stdout",
     "output_type": "stream",
     "text": [
      "Mean Absolute Error: 0.22917447944088568\n",
      "Mean Squared Error: 0.2265415900666995\n",
      "Root Mean Squared Error: 0.4759638537396506\n"
     ]
    }
   ],
   "source": [
    "print('Mean Absolute Error:', metrics.mean_absolute_error(y_test, y_pred_test))  \n",
    "print('Mean Squared Error:', metrics.mean_squared_error(y_test, y_pred_test))  \n",
    "print('Root Mean Squared Error:', np.sqrt(metrics.mean_squared_error(y_test, y_pred_test)))"
   ]
  },
  {
   "cell_type": "code",
   "execution_count": 7,
   "metadata": {},
   "outputs": [
    {
     "name": "stdout",
     "output_type": "stream",
     "text": [
      "                                 OLS Regression Results                                \n",
      "=======================================================================================\n",
      "Dep. Variable:           Global_Sales   R-squared (uncentered):                   0.181\n",
      "Model:                            OLS   Adj. R-squared (uncentered):              0.180\n",
      "Method:                 Least Squares   F-statistic:                              137.0\n",
      "Date:                Tue, 07 Apr 2020   Prob (F-statistic):                   7.08e-106\n",
      "Time:                        00:50:13   Log-Likelihood:                         -4239.1\n",
      "No. Observations:                2476   AIC:                                      8486.\n",
      "Df Residuals:                    2472   BIC:                                      8509.\n",
      "Df Model:                           4                                                  \n",
      "Covariance Type:            nonrobust                                                  \n",
      "==============================================================================\n",
      "                 coef    std err          t      P>|t|      [0.025      0.975]\n",
      "------------------------------------------------------------------------------\n",
      "Shooter        0.7441      0.097      7.663      0.000       0.554       0.934\n",
      "PS3            0.1880      0.069      2.733      0.006       0.053       0.323\n",
      "EA             0.6631      0.106      6.272      0.000       0.456       0.870\n",
      "Year           0.0002   1.57e-05     13.080      0.000       0.000       0.000\n",
      "==============================================================================\n",
      "Omnibus:                     3073.929   Durbin-Watson:                   2.003\n",
      "Prob(Omnibus):                  0.000   Jarque-Bera (JB):           423549.533\n",
      "Skew:                           6.676   Prob(JB):                         0.00\n",
      "Kurtosis:                      65.667   Cond. No.                     8.03e+03\n",
      "==============================================================================\n",
      "\n",
      "Warnings:\n",
      "[1] Standard Errors assume that the covariance matrix of the errors is correctly specified.\n",
      "[2] The condition number is large, 8.03e+03. This might indicate that there are\n",
      "strong multicollinearity or other numerical problems.\n"
     ]
    }
   ],
   "source": [
    "import pandas as pd\n",
    "import numpy as np\n",
    "from sklearn.model_selection  import train_test_split\n",
    "from sklearn import metrics\n",
    "import statsmodels.api as sm\n",
    "from sklearn.metrics import *\n",
    "import statsmodels.formula.api as smf\n",
    "import matplotlib.pyplot as plt\n",
    "\n",
    "df = pd.read_csv(\"vgsales_new_OLS1.csv\")\n",
    "\n",
    "df['intercept'] = 1.0\n",
    "df = df[df[\"Year\"] >= 2011] # Year between 2011 - 2015\n",
    "df = df[df[\"Year\"] <= 2015]\n",
    "\n",
    "X = df[['Shooter', 'PS3','EA','Year']] \n",
    "y = df['Global_Sales']\n",
    "\n",
    "X_train, X_test, y_train, y_test = train_test_split(X, y, test_size=0.30,random_state=109)\n",
    "\n",
    "OLS_model = sm.OLS(y_train,X_train.astype(float)).fit()\n",
    "\n",
    "print(OLS_model.summary())\n",
    "\n",
    "y_pred_test = OLS_model.predict(X_test)\n",
    "\n",
    "y_pred_train = OLS_model.predict(X_train)\n"
   ]
  },
  {
   "cell_type": "code",
   "execution_count": 8,
   "metadata": {},
   "outputs": [
    {
     "data": {
      "image/png": "[encoded data removed]",
      "text/plain": [
       "<Figure size 432x288 with 1 Axes>"
      ]
     },
     "metadata": {
      "needs_background": "light"
     },
     "output_type": "display_data"
    }
   ],
   "source": [
    "plt.scatter(y_test, y_pred_test)\n",
    "plt.xlabel(\"True Values\")\n",
    "plt.ylabel(\"Predictions\")\n",
    "plt.show()"
   ]
  },
  {
   "cell_type": "code",
   "execution_count": 9,
   "metadata": {},
   "outputs": [
    {
     "name": "stdout",
     "output_type": "stream",
     "text": [
      "Mean Absolute Error: 0.5028919325862423\n",
      "Mean Squared Error: 0.9290539170663538\n",
      "Root Mean Squared Error: 0.9638744301341092\n"
     ]
    }
   ],
   "source": [
    "print('Mean Absolute Error:', metrics.mean_absolute_error(y_test, y_pred_test))  \n",
    "print('Mean Squared Error:', metrics.mean_squared_error(y_test, y_pred_test))  \n",
    "print('Root Mean Squared Error:', np.sqrt(metrics.mean_squared_error(y_test, y_pred_test)))"
   ]
  }
 ],
 "metadata": {
  "kernelspec": {
   "display_name": "Python 3",
   "language": "python",
   "name": "python3"
  },
  "language_info": {
   "codemirror_mode": {
    "name": "ipython",
    "version": 3
   },
   "file_extension": ".py",
   "mimetype": "text/x-python",
   "name": "python",
   "nbconvert_exporter": "python",
   "pygments_lexer": "ipython3",
   "version": "3.7.3"
  }
 },
 "nbformat": 4,
 "nbformat_minor": 2
}
