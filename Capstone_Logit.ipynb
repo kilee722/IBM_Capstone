{
 "cells": [
  {
   "cell_type": "code",
   "execution_count": 23,
   "metadata": {},
   "outputs": [
    {
     "name": "stdout",
     "output_type": "stream",
     "text": [
      "Optimization terminated successfully.\n",
      "         Current function value: 0.440979\n",
      "         Iterations 6\n",
      "                           Logit Regression Results                           \n",
      "==============================================================================\n",
      "Dep. Variable:           JPSales_High   No. Observations:                 2476\n",
      "Model:                          Logit   Df Residuals:                     2472\n",
      "Method:                           MLE   Df Model:                            3\n",
      "Date:                Tue, 07 Apr 2020   Pseudo R-squ.:                  0.1263\n",
      "Time:                        01:21:37   Log-Likelihood:                -1091.9\n",
      "converged:                       True   LL-Null:                       -1249.7\n",
      "Covariance Type:            nonrobust   LLR p-value:                 3.902e-68\n",
      "==============================================================================\n",
      "                 coef    std err          z      P>|z|      [0.025      0.975]\n",
      "------------------------------------------------------------------------------\n",
      "RPG            1.4494      0.137     10.592      0.000       1.181       1.718\n",
      "Nintendo       2.7697      0.301      9.203      0.000       2.180       3.360\n",
      "3DS            1.0167      0.141      7.208      0.000       0.740       1.293\n",
      "intercept     -1.8946      0.067    -28.315      0.000      -2.026      -1.763\n",
      "==============================================================================\n",
      "train data confusion matrix:\n",
      "predicted     0   1\n",
      "actual             \n",
      "0          1941  32\n",
      "1           408  95\n",
      "AIC:  2191.7279015609074\n",
      "BIC:  2214.985500096125\n"
     ]
    }
   ],
   "source": [
    "import pandas as pd\n",
    "import numpy as np\n",
    "from sklearn.model_selection  import train_test_split\n",
    "from sklearn import metrics\n",
    "import statsmodels.api as sm\n",
    "from sklearn.metrics import *\n",
    "import statsmodels.formula.api as smf\n",
    "import matplotlib.pyplot as plt\n",
    "\n",
    "df = pd.read_csv(\"vgsales_new_OLS1.csv\")\n",
    "\n",
    "df['intercept'] = 1.0\n",
    "\n",
    "df = df[df[\"Year\"] >= 2011]\n",
    "df = df[df[\"Year\"] <= 2015]\n",
    "\n",
    "\n",
    "X = df[['RPG', 'Nintendo','3DS' ,'intercept']] \n",
    "y = df['JPSales_High']\n",
    "\n",
    "X_train, X_test, y_train, y_test = train_test_split(X, y, test_size=0.30,random_state=109)\n",
    "\n",
    "Logit_model = sm.Logit(y_train,X_train).fit()\n",
    "\n",
    "print(Logit_model.summary())\n",
    "\n",
    "y_pred_test = Logit_model.predict(X_test)\n",
    "\n",
    "y_pred_train = Logit_model.predict(X_train)\n",
    "\n",
    "X_test.loc[:,'prediction'] = 0 \n",
    "X_test.loc[y_pred_test > 0.5, 'prediction'] = 1\n",
    "\n",
    "X_train.loc[:,'prediction'] = 0 \n",
    "X_train.loc[y_pred_train > 0.5, 'prediction'] = 1\n",
    "\n",
    "#print this to get the confusion matrix\n",
    "\n",
    "print(\"train data confusion matrix:\")\n",
    "print(pd.crosstab(y_train,X_train['prediction'],rownames =['actual'],colnames=['predicted']))\n",
    "\n",
    "print(\"AIC: \", Logit_model.aic)\n",
    "print(\"BIC: \", Logit_model.bic)"
   ]
  },
  {
   "cell_type": "code",
   "execution_count": 2,
   "metadata": {},
   "outputs": [
    {
     "data": {
      "image/png": "[encoded data removed]",
      "text/plain": [
       "<Figure size 432x288 with 1 Axes>"
      ]
     },
     "metadata": {
      "needs_background": "light"
     },
     "output_type": "display_data"
    }
   ],
   "source": [
    "def plot_roc_cur(fper, tper):  \n",
    "    plt.plot(fper, tper, color='orange', label='ROC')\n",
    "    plt.plot([0, 1], [0, 1], color='darkblue', linestyle='--')\n",
    "    plt.xlabel('False Positive Rate')\n",
    "    plt.ylabel('True Positive Rate')\n",
    "    plt.title('Receiver Operating Characteristic (ROC) Curve')\n",
    "    plt.legend()\n",
    "    return plt.show()\n",
    "\n",
    "fper, tper, thresholds = roc_curve(y_test, y_pred_test) \n",
    "plot_roc_cur(fper, tper)"
   ]
  },
  {
   "cell_type": "code",
   "execution_count": 3,
   "metadata": {},
   "outputs": [
    {
     "data": {
      "text/plain": [
       "0.6832163679550852"
      ]
     },
     "execution_count": 3,
     "metadata": {},
     "output_type": "execute_result"
    }
   ],
   "source": [
    "#AUC score\n",
    "false_positive_rate, true_positive_rate, thresholds = roc_curve(y_test, y_pred_test)\n",
    "roc_auc = auc(false_positive_rate, true_positive_rate)\n",
    "roc_auc"
   ]
  },
  {
   "cell_type": "code",
   "execution_count": null,
   "metadata": {},
   "outputs": [],
   "source": []
  },
  {
   "cell_type": "code",
   "execution_count": 20,
   "metadata": {},
   "outputs": [
    {
     "name": "stdout",
     "output_type": "stream",
     "text": [
      "Optimization terminated successfully.\n",
      "         Current function value: 0.495485\n",
      "         Iterations 5\n",
      "                           Logit Regression Results                           \n",
      "==============================================================================\n",
      "Dep. Variable:           NASales_High   No. Observations:                 2476\n",
      "Model:                          Logit   Df Residuals:                     2472\n",
      "Method:                           MLE   Df Model:                            3\n",
      "Date:                Tue, 07 Apr 2020   Pseudo R-squ.:                 0.07575\n",
      "Time:                        01:04:16   Log-Likelihood:                -1226.8\n",
      "converged:                       True   LL-Null:                       -1327.4\n",
      "Covariance Type:            nonrobust   LLR p-value:                 2.441e-43\n",
      "==============================================================================\n",
      "                 coef    std err          z      P>|z|      [0.025      0.975]\n",
      "------------------------------------------------------------------------------\n",
      "Shooter        1.0448      0.155      6.744      0.000       0.741       1.348\n",
      "X360           0.9520      0.126      7.532      0.000       0.704       1.200\n",
      "EA             1.4346      0.166      8.629      0.000       1.109       1.760\n",
      "intercept     -1.6337      0.061    -26.798      0.000      -1.753      -1.514\n",
      "==============================================================================\n",
      "train data confusion matrix:\n",
      "predicted     0   1\n",
      "actual             \n",
      "0          1866  47\n",
      "1           494  69\n",
      "AIC:  2461.640981203239\n",
      "BIC:  2484.8985797384566\n"
     ]
    }
   ],
   "source": [
    "\n",
    "X = df[['Shooter', 'X360',  'EA', 'intercept']] \n",
    "y = df['NASales_High']\n",
    "\n",
    "X_train, X_test, y_train, y_test = train_test_split(X, y, test_size=0.30,random_state=109)\n",
    "\n",
    "Logit_model = sm.Logit(y_train,X_train).fit()\n",
    "\n",
    "print(Logit_model.summary())\n",
    "\n",
    "y_pred_test = Logit_model.predict(X_test)\n",
    "\n",
    "y_pred_train = Logit_model.predict(X_train)\n",
    "\n",
    "X_test.loc[:,'prediction'] = 0 \n",
    "X_test.loc[y_pred_test > 0.5, 'prediction'] = 1\n",
    "\n",
    "X_train.loc[:,'prediction'] = 0 \n",
    "X_train.loc[y_pred_train > 0.5, 'prediction'] = 1\n",
    "\n",
    "#print this to get the confusion matrix\n",
    "\n",
    "print(\"train data confusion matrix:\")\n",
    "print(pd.crosstab(y_train,X_train['prediction'],rownames =['actual'],colnames=['predicted']))\n",
    "\n",
    "print(\"AIC: \", Logit_model.aic)\n",
    "print(\"BIC: \", Logit_model.bic)"
   ]
  },
  {
   "cell_type": "code",
   "execution_count": 21,
   "metadata": {},
   "outputs": [
    {
     "data": {
      "image/png": "[encoded data removed]",
      "text/plain": [
       "<Figure size 432x288 with 1 Axes>"
      ]
     },
     "metadata": {
      "needs_background": "light"
     },
     "output_type": "display_data"
    }
   ],
   "source": [
    "def plot_roc_cur(fper, tper):  \n",
    "    plt.plot(fper, tper, color='orange', label='ROC')\n",
    "    plt.plot([0, 1], [0, 1], color='darkblue', linestyle='--')\n",
    "    plt.xlabel('False Positive Rate')\n",
    "    plt.ylabel('True Positive Rate')\n",
    "    plt.title('Receiver Operating Characteristic (ROC) Curve')\n",
    "    plt.legend()\n",
    "    return plt.show()\n",
    "\n",
    "fper, tper, thresholds = roc_curve(y_test, y_pred_test) \n",
    "plot_roc_cur(fper, tper)"
   ]
  },
  {
   "cell_type": "code",
   "execution_count": 22,
   "metadata": {},
   "outputs": [
    {
     "data": {
      "text/plain": [
       "0.6293507326405495"
      ]
     },
     "execution_count": 22,
     "metadata": {},
     "output_type": "execute_result"
    }
   ],
   "source": [
    "#AUC score\n",
    "false_positive_rate, true_positive_rate, thresholds = roc_curve(y_test, y_pred_test)\n",
    "roc_auc = auc(false_positive_rate, true_positive_rate)\n",
    "roc_auc"
   ]
  },
  {
   "cell_type": "code",
   "execution_count": 17,
   "metadata": {},
   "outputs": [
    {
     "name": "stdout",
     "output_type": "stream",
     "text": [
      "Optimization terminated successfully.\n",
      "         Current function value: 0.502549\n",
      "         Iterations 5\n",
      "                           Logit Regression Results                           \n",
      "==============================================================================\n",
      "Dep. Variable:         GlobSales_High   No. Observations:                 2476\n",
      "Model:                          Logit   Df Residuals:                     2472\n",
      "Method:                           MLE   Df Model:                            3\n",
      "Date:                Tue, 07 Apr 2020   Pseudo R-squ.:                 0.07105\n",
      "Time:                        00:53:50   Log-Likelihood:                -1244.3\n",
      "converged:                       True   LL-Null:                       -1339.5\n",
      "Covariance Type:            nonrobust   LLR p-value:                 5.117e-41\n",
      "==============================================================================\n",
      "                 coef    std err          z      P>|z|      [0.025      0.975]\n",
      "------------------------------------------------------------------------------\n",
      "Shooter        1.1163      0.153      7.285      0.000       0.816       1.417\n",
      "PS3            0.6578      0.116      5.655      0.000       0.430       0.886\n",
      "EA             1.5851      0.166      9.571      0.000       1.260       1.910\n",
      "intercept     -1.6097      0.062    -25.804      0.000      -1.732      -1.487\n",
      "==============================================================================\n",
      "train data confusion matrix:\n",
      "predicted     0   1\n",
      "actual             \n",
      "0          1860  43\n",
      "1           498  75\n",
      "AIC:  2496.6203118830117\n",
      "BIC:  2519.8779104182295\n"
     ]
    }
   ],
   "source": [
    "import pandas as pd\n",
    "import numpy as np\n",
    "from sklearn.model_selection  import train_test_split\n",
    "from sklearn import metrics\n",
    "import statsmodels.api as sm\n",
    "from sklearn.metrics import *\n",
    "import statsmodels.formula.api as smf\n",
    "import matplotlib.pyplot as plt\n",
    "\n",
    "df = pd.read_csv(\"vgsales_new_OLS1.csv\")\n",
    "\n",
    "df['intercept'] = 1.0\n",
    "\n",
    "df = df[df[\"Year\"] >= 2011] # Year between 2011 - 2015\n",
    "df = df[df[\"Year\"] <= 2015]\n",
    "\n",
    "\n",
    "X = df[['Shooter', 'PS3','EA'  ,'intercept']] \n",
    "y = df['GlobSales_High']\n",
    "\n",
    "X_train, X_test, y_train, y_test = train_test_split(X, y, test_size=0.30,random_state=109)\n",
    "\n",
    "Logit_model = sm.Logit(y_train,X_train).fit()\n",
    "\n",
    "print(Logit_model.summary())\n",
    "\n",
    "y_pred_test = Logit_model.predict(X_test)\n",
    "\n",
    "y_pred_train = Logit_model.predict(X_train)\n",
    "\n",
    "X_test.loc[:,'prediction'] = 0 \n",
    "X_test.loc[y_pred_test > 0.5, 'prediction'] = 1\n",
    "\n",
    "X_train.loc[:,'prediction'] = 0 \n",
    "X_train.loc[y_pred_train > 0.5, 'prediction'] = 1\n",
    "\n",
    "#print this to get the confusion matrix\n",
    "\n",
    "print(\"train data confusion matrix:\")\n",
    "print(pd.crosstab(y_train,X_train['prediction'],rownames =['actual'],colnames=['predicted']))\n",
    "\n",
    "print(\"AIC: \", Logit_model.aic)\n",
    "print(\"BIC: \", Logit_model.bic)"
   ]
  },
  {
   "cell_type": "code",
   "execution_count": 18,
   "metadata": {},
   "outputs": [
    {
     "data": {
      "image/png": "[encoded data removed]",
      "text/plain": [
       "<Figure size 432x288 with 1 Axes>"
      ]
     },
     "metadata": {
      "needs_background": "light"
     },
     "output_type": "display_data"
    }
   ],
   "source": [
    "def plot_roc_cur(fper, tper):  \n",
    "    plt.plot(fper, tper, color='orange', label='ROC')\n",
    "    plt.plot([0, 1], [0, 1], color='darkblue', linestyle='--')\n",
    "    plt.xlabel('False Positive Rate')\n",
    "    plt.ylabel('True Positive Rate')\n",
    "    plt.title('Receiver Operating Characteristic (ROC) Curve')\n",
    "    plt.legend()\n",
    "    return plt.show()\n",
    "\n",
    "fper, tper, thresholds = roc_curve(y_test, y_pred_test) \n",
    "plot_roc_cur(fper, tper)"
   ]
  },
  {
   "cell_type": "code",
   "execution_count": 19,
   "metadata": {},
   "outputs": [
    {
     "data": {
      "text/plain": [
       "0.626223360468307"
      ]
     },
     "execution_count": 19,
     "metadata": {},
     "output_type": "execute_result"
    }
   ],
   "source": [
    "#AUC score\n",
    "false_positive_rate, true_positive_rate, thresholds = roc_curve(y_test, y_pred_test)\n",
    "roc_auc = auc(false_positive_rate, true_positive_rate)\n",
    "roc_auc"
   ]
  }
 ],
 "metadata": {
  "kernelspec": {
   "display_name": "Python 3",
   "language": "python",
   "name": "python3"
  },
  "language_info": {
   "codemirror_mode": {
    "name": "ipython",
    "version": 3
   },
   "file_extension": ".py",
   "mimetype": "text/x-python",
   "name": "python",
   "nbconvert_exporter": "python",
   "pygments_lexer": "ipython3",
   "version": "3.7.3"
  }
 },
 "nbformat": 4,
 "nbformat_minor": 2
}
