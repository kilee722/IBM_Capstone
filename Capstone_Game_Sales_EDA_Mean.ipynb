{
 "cells": [
  {
   "cell_type": "code",
   "execution_count": 1,
   "metadata": {},
   "outputs": [],
   "source": [
    "# Load libraries\n",
    "\n",
    "import pandas as pd\n",
    "import numpy as np\n",
    "import seaborn as sns\n",
    "import matplotlib.pyplot as plt\n",
    "import matplotlib.pylab as pll "
   ]
  },
  {
   "cell_type": "code",
   "execution_count": 2,
   "metadata": {},
   "outputs": [],
   "source": [
    "# Load data\n",
    "\n",
    "df = pd.read_csv(\"vgsales.csv\")"
   ]
  },
  {
   "cell_type": "code",
   "execution_count": 3,
   "metadata": {},
   "outputs": [
    {
     "data": {
      "text/plain": [
       "0.53744065550074"
      ]
     },
     "execution_count": 3,
     "metadata": {},
     "output_type": "execute_result"
    }
   ],
   "source": [
    "df[\"Global_Sales\"].mean()"
   ]
  },
  {
   "cell_type": "code",
   "execution_count": 4,
   "metadata": {},
   "outputs": [
    {
     "data": {
      "text/plain": [
       "0.26466742981084057"
      ]
     },
     "execution_count": 4,
     "metadata": {},
     "output_type": "execute_result"
    }
   ],
   "source": [
    "df[\"NA_Sales\"].mean()"
   ]
  },
  {
   "cell_type": "code",
   "execution_count": 5,
   "metadata": {},
   "outputs": [
    {
     "data": {
      "text/plain": [
       "0.1466520062658483"
      ]
     },
     "execution_count": 5,
     "metadata": {},
     "output_type": "execute_result"
    }
   ],
   "source": [
    "df[\"EU_Sales\"].mean()"
   ]
  },
  {
   "cell_type": "code",
   "execution_count": 6,
   "metadata": {},
   "outputs": [
    {
     "data": {
      "text/plain": [
       "0.07778166044101108"
      ]
     },
     "execution_count": 6,
     "metadata": {},
     "output_type": "execute_result"
    }
   ],
   "source": [
    "df[\"JP_Sales\"].mean()"
   ]
  },
  {
   "cell_type": "code",
   "execution_count": null,
   "metadata": {},
   "outputs": [],
   "source": [
    "Sales_NA = df.groupby('Genre', as_index=False)[\"NA_Sales\"].mean()\n",
    "Sales_NA"
   ]
  },
  {
   "cell_type": "code",
   "execution_count": null,
   "metadata": {},
   "outputs": [],
   "source": [
    "df_mean_publisher_GLOB = df.groupby([\"Publisher\"])[\"Global_Sales\"].mean().reset_index()\n",
    "# df_popl_NA = df[df[\"NA_Sales\"] >= 300]\n",
    "df_mean_publisher_GLOB = df_mean_publisher_GLOB.sort_values(by = [\"Global_Sales\"], ascending = False)\n",
    "df_mean_publisher_GLOB = df_mean_publisher_GLOB[df_mean_publisher_GLOB[\"Global_Sales\"] >= 1.5]\n",
    "plt.figure(figsize=(10,5))\n",
    "chart = sns.barplot(\n",
    "    data=df_mean_publisher_GLOB,\n",
    "    x='Publisher',\n",
    "    y = 'Global_Sales',\n",
    "    palette='Set1'\n",
    ")\n",
    "chart.set_xticklabels(chart.get_xticklabels(), rotation=45)"
   ]
  },
  {
   "cell_type": "code",
   "execution_count": null,
   "metadata": {},
   "outputs": [],
   "source": [
    "df_mean_publisher_GLOB = df_mean_publisher_GLOB.reset_index()\n",
    "sns.barplot(x = \"Publisher\", y = \"Global_Sales\", data = df_mean_publisher_GLOB)\n",
    "pll.xticks(rotation=45)"
   ]
  },
  {
   "cell_type": "code",
   "execution_count": null,
   "metadata": {},
   "outputs": [],
   "source": [
    "# from 5th gen. consoles (after 1994)\n",
    "\n",
    "df_1994 = df[df[\"Year\"] >= 1994]\n",
    "\n",
    "df_total_1994=df_1994.groupby([\"Publisher\"])[\"Global_Sales\"].mean().reset_index()\n",
    "df_total_1994=df_total_1994.sort_values(by = [\"Global_Sales\"], ascending = False)\n",
    "df_total_1994 = df_total_1994[df_total_1994[\"Global_Sales\"] >= 1]\n",
    "\n",
    "sns.barplot(x = \"Publisher\", y =\"Global_Sales\",  data = df_total_1994).set_title(\"Total Sales by Publisher\")\n",
    "pll.xticks(rotation=45)"
   ]
  },
  {
   "cell_type": "code",
   "execution_count": null,
   "metadata": {},
   "outputs": [],
   "source": [
    "df_1994 = df[df[\"Year\"] >= 1994]\n",
    "\n",
    "df_NA_1994=df_1994.groupby([\"Publisher\"])[\"NA_Sales\"].mean().reset_index()\n",
    "df_NA_1994=df_NA_1994.sort_values(by = [\"NA_Sales\"], ascending = False)\n",
    "df_NA_1994 = df_NA_1994[df_NA_1994[\"NA_Sales\"] >= 1]\n",
    "\n",
    "sns.barplot(x = \"Publisher\", y =\"NA_Sales\",  data = df_NA_1994).set_title(\"NA Sales by Publisher\")\n",
    "pll.xticks(rotation=45)"
   ]
  },
  {
   "cell_type": "code",
   "execution_count": null,
   "metadata": {},
   "outputs": [],
   "source": [
    "df_1994 = df[df[\"Year\"] >= 1994]\n",
    "\n",
    "df_EU_1994=df_1994.groupby([\"Publisher\"])[\"EU_Sales\"].mean().reset_index()\n",
    "df_EU_1994=df_EU_1994.sort_values(by = [\"EU_Sales\"], ascending = False)\n",
    "df_EU_1994 = df_EU_1994[df_EU_1994[\"EU_Sales\"] >= 0.3]\n",
    "\n",
    "sns.barplot(x = \"Publisher\", y =\"EU_Sales\",  data = df_EU_1994).set_title(\"EU Sales by Publisher\")\n",
    "pll.xticks(rotation=45)"
   ]
  },
  {
   "cell_type": "code",
   "execution_count": null,
   "metadata": {},
   "outputs": [],
   "source": [
    "df_1994 = df[df[\"Year\"] >= 1994]\n",
    "\n",
    "df_JP_1994=df_1994.groupby([\"Publisher\"])[\"JP_Sales\"].mean().reset_index()\n",
    "df_JP_1994=df_JP_1994.sort_values(by = [\"JP_Sales\"], ascending = False)\n",
    "df_JP_1994 = df_JP_1994[df_JP_1994[\"JP_Sales\"] >= 0.3]\n",
    "\n",
    "sns.barplot(x = \"Publisher\", y =\"JP_Sales\",  data = df_JP_1994).set_title(\"JP Sales by Publisher\")\n",
    "pll.xticks(rotation=45)"
   ]
  },
  {
   "cell_type": "code",
   "execution_count": null,
   "metadata": {},
   "outputs": [],
   "source": [
    "# Sales by Year\n",
    "\n",
    "K=df.groupby([\"Year\"])[\"Global_Sales\"].mean().reset_index()\n",
    "# K=K.sort_values(by = [\"Global_Sales\"], ascending = False)\n",
    "\n",
    "sns.barplot(x = \"Year\", y =\"Global_Sales\",  data = K)\n",
    "pll.xticks(rotation=45)"
   ]
  },
  {
   "cell_type": "code",
   "execution_count": null,
   "metadata": {},
   "outputs": [],
   "source": [
    "df_1994 = df[df[\"Year\"] >= 1994]\n",
    "\n",
    "df_total=df_1994.groupby([\"Year\"])[\"Global_Sales\"].mean().reset_index()\n",
    "\n",
    "sns.barplot(x = \"Year\", y =\"Global_Sales\",  data = df_total).set_title(\"Total Sales by Year\")\n",
    "pll.xticks(rotation=45)"
   ]
  },
  {
   "cell_type": "code",
   "execution_count": null,
   "metadata": {},
   "outputs": [],
   "source": [
    "sports = df_1994[df_1994[\"Genre\"] == \"Sports\"]\n",
    "\n",
    "sports=sports.groupby([\"Year\", \"Genre\"])[\"Global_Sales\"].mean().reset_index()\n",
    "\n",
    "sns.barplot(x = \"Year\", y =\"Global_Sales\",  data = sports).set_title(\"Sports\")\n",
    "pll.xticks(rotation=45)"
   ]
  },
  {
   "cell_type": "code",
   "execution_count": null,
   "metadata": {},
   "outputs": [],
   "source": [
    "Action = df_1994[df_1994[\"Genre\"] == \"Action\"]\n",
    "\n",
    "Action=Action.groupby([\"Year\", \"Genre\"])[\"Global_Sales\"].mean().reset_index()\n",
    "\n",
    "sns.barplot(x = \"Year\", y =\"Global_Sales\",  data = Action).set_title(\"Action\")\n",
    "pll.xticks(rotation=45)"
   ]
  },
  {
   "cell_type": "code",
   "execution_count": null,
   "metadata": {},
   "outputs": [],
   "source": [
    "Shoot = df_1994[df_1994[\"Genre\"] == \"Shooter\"]\n",
    "\n",
    "Shoot=Shoot.groupby([\"Year\", \"Genre\"])[\"Global_Sales\"].mean().reset_index()\n",
    "\n",
    "sns.barplot(x = \"Year\", y =\"Global_Sales\",  data = Shoot).set_title(\"Shooting\")\n",
    "pll.xticks(rotation=45)\n",
    "\n"
   ]
  },
  {
   "cell_type": "code",
   "execution_count": null,
   "metadata": {},
   "outputs": [],
   "source": [
    "RP = df_1994[df_1994[\"Genre\"] == \"Role-Playing\"]\n",
    "\n",
    "RP=RP.groupby([\"Year\", \"Genre\"])[\"Global_Sales\"].mean().reset_index()\n",
    "\n",
    "sns.barplot(x = \"Year\", y =\"Global_Sales\",  data = RP).set_title(\"Role-Playing\")\n",
    "pll.xticks(rotation=45)\n",
    "\n"
   ]
  },
  {
   "cell_type": "code",
   "execution_count": null,
   "metadata": {},
   "outputs": [],
   "source": [
    "Plat = df_1994[df_1994[\"Genre\"] == \"Platform\"]\n",
    "\n",
    "Plat=Plat.groupby([\"Year\", \"Genre\"])[\"Global_Sales\"].mean().reset_index()\n",
    "\n",
    "sns.barplot(x = \"Year\", y =\"Global_Sales\",  data = Plat).set_title(\"Platform\")\n",
    "pll.xticks(rotation=45)\n"
   ]
  },
  {
   "cell_type": "code",
   "execution_count": null,
   "metadata": {},
   "outputs": [],
   "source": [
    "Rc = df_1994[df_1994[\"Genre\"] == \"Racing\"]\n",
    "\n",
    "Rc=Rc.groupby([\"Year\", \"Genre\"])[\"Global_Sales\"].mean().reset_index()\n",
    "\n",
    "sns.barplot(x = \"Year\", y =\"Global_Sales\",  data = Rc).set_title(\"Racing\")\n",
    "pll.xticks(rotation=45)"
   ]
  },
  {
   "cell_type": "code",
   "execution_count": null,
   "metadata": {},
   "outputs": [],
   "source": [
    "fig = plt.figure(figsize=(10, 5))\n",
    "fig.subplots_adjust(hspace=0.3, wspace=0.3)\n",
    "ax = fig.add_subplot(3, 3, 1)\n",
    "sns.lineplot(x = \"Year\", y =\"Global_Sales\",  data = df_total,  color=\"coral\",ax=ax).set_title(\"Total Sales by Year\")\n",
    "ax.set(ylim=(0, 3))\n",
    "\n",
    "ax = fig.add_subplot(3, 3, 2)\n",
    "sns.lineplot(x = \"Year\", y =\"Global_Sales\",  data = sports, ax=ax).set_title(\"Sports\")\n",
    "ax.set(ylim=(0, 3))\n",
    "\n",
    "ax = fig.add_subplot(3, 3, 3)\n",
    "sns.lineplot(x = \"Year\", y =\"Global_Sales\",  data = Action, ax=ax).set_title(\"Action\")\n",
    "ax.set(ylim=(0, 3))\n",
    "\n",
    "# ax.set_xticklabels(ax.get_xticklabels(), rotation=90)\n",
    "ax = fig.add_subplot(3, 3, 4)\n",
    "sns.lineplot(x = \"Year\", y =\"Global_Sales\",  data = Shoot, ax=ax).set_title(\"Shooter\")\n",
    "ax.set(ylim=(0, 3))\n",
    "\n",
    "ax = fig.add_subplot(3, 3, 5)\n",
    "sns.lineplot(x = \"Year\", y =\"Global_Sales\",  data = RP, ax=ax).set_title(\"Role-Playing\")\n",
    "ax.set(ylim=(0, 3))\n",
    "\n",
    "ax = fig.add_subplot(3, 3, 6)\n",
    "sns.lineplot(x = \"Year\", y =\"Global_Sales\",  data = Plat, ax=ax).set_title(\"Platform\")\n",
    "ax.set(ylim=(0, 3))\n",
    "\n",
    "ax = fig.add_subplot(3, 3, 7)\n",
    "sns.lineplot(x = \"Year\", y =\"Global_Sales\",  data = Rc, ax=ax).set_title(\"Racing\")\n",
    "fig.set_size_inches(15,15)\n",
    "ax.set(ylim=(0, 3))\n",
    "plt.show()"
   ]
  },
  {
   "cell_type": "code",
   "execution_count": null,
   "metadata": {
    "scrolled": false
   },
   "outputs": [],
   "source": [
    "# Sales by Platform\n",
    "\n",
    "\n",
    "df_1994 = df[df[\"Year\"] >= 1994]\n",
    "\n",
    "TOTAL_mean = df.groupby([\"Platform\"])[\"Global_Sales\"].mean().reset_index()\n",
    "TOTAL_mean=TOTAL_mean.sort_values(by = [\"Global_Sales\"], ascending = False)\n",
    "sns.barplot(x = \"Platform\", y =\"Global_Sales\",  data = TOTAL_mean).set_title(\"Global Sales by Platform\")\n",
    "pll.xticks(rotation=45)\n",
    "\n"
   ]
  },
  {
   "cell_type": "code",
   "execution_count": null,
   "metadata": {},
   "outputs": [],
   "source": [
    "TOTAL_mean = df.groupby([\"Platform\", \"Year\"])[\"Global_Sales\"].mean().reset_index()\n",
    "# TOTAL_mean = TOTAL_mean[TOTAL_mean[\"Global_Sales\"] >= 3]\n",
    "TOTAL_mean=TOTAL_mean.sort_values(by = [\"Global_Sales\"], ascending = False)\n",
    "sns.lineplot(x = \"Year\", y =\"Global_Sales\",hue =\"Platform\",  data = TOTAL_mean).set_title(\"Global Sales by Platform\")\n",
    "pll.xticks(rotation=45)\n",
    "plt.legend(bbox_to_anchor=(1.05, 1), loc=2, borderaxespad=0.)"
   ]
  },
  {
   "cell_type": "code",
   "execution_count": null,
   "metadata": {},
   "outputs": [],
   "source": [
    "Fth = df[(df[\"Platform\"] == \"SAT\") | (df[\"Platform\"] == \"PS\") | (df[\"Platform\"] == \"N64\") ]\n",
    "\n",
    "Fth = Fth.groupby([\"Year\", \"Platform\"])[\"Global_Sales\"].mean().reset_index()\n",
    "\n",
    "sns.lineplot(x = \"Year\", y =\"Global_Sales\", hue = \"Platform\", data = Fth)"
   ]
  },
  {
   "cell_type": "code",
   "execution_count": null,
   "metadata": {},
   "outputs": [],
   "source": [
    "Sth = df[(df[\"Platform\"] == \"PS2\") | (df[\"Platform\"] == \"XB\") | (df[\"Platform\"] == \"GC\") ]\n",
    "\n",
    "Sth = Sth.groupby([\"Year\", \"Platform\"])[\"Global_Sales\"].mean().reset_index()\n",
    "\n",
    "sns.lineplot(x = \"Year\", y =\"Global_Sales\", hue = \"Platform\", data = Sth)"
   ]
  },
  {
   "cell_type": "code",
   "execution_count": null,
   "metadata": {},
   "outputs": [],
   "source": [
    "SEVth = df[(df[\"Platform\"] == \"PS3\") | (df[\"Platform\"] == \"X360\") | (df[\"Platform\"] == \"Wii\") ]\n",
    "\n",
    "SEVth = SEVth.groupby([\"Year\", \"Platform\"])[\"Global_Sales\"].mean().reset_index()\n",
    "\n",
    "sns.lineplot(x = \"Year\", y =\"Global_Sales\", hue = \"Platform\", data = SEVth)"
   ]
  },
  {
   "cell_type": "code",
   "execution_count": null,
   "metadata": {},
   "outputs": [],
   "source": [
    "EITth = df[(df[\"Platform\"] == \"PS4\") | (df[\"Platform\"] == \"XOne\") | (df[\"Platform\"] == \"WiiU\") ]\n",
    "\n",
    "EITth = EITth.groupby([\"Year\", \"Platform\"])[\"Global_Sales\"].mean().reset_index()\n",
    "\n",
    "sns.lineplot(x = \"Year\", y =\"Global_Sales\", hue = \"Platform\", data = EITth)"
   ]
  },
  {
   "cell_type": "code",
   "execution_count": null,
   "metadata": {},
   "outputs": [],
   "source": [
    "TOTAL = df[(df[\"Platform\"] == \"PS4\") | (df[\"Platform\"] == \"XOne\") | (df[\"Platform\"] == \"WiiU\") | (df[\"Platform\"] == \"PS3\") | (df[\"Platform\"] == \"X360\") | (df[\"Platform\"] == \"Wii\")\n",
    "          | (df[\"Platform\"] == \"PS2\") | (df[\"Platform\"] == \"XB\") | (df[\"Platform\"] == \"GC\") |(df[\"Platform\"] == \"SAT\") | (df[\"Platform\"] == \"PS\") | (df[\"Platform\"] == \"N64\") ]\n",
    "\n",
    "TOTAL = TOTAL.groupby([\"Year\", \"Platform\"])[\"Global_Sales\"].mean().reset_index()\n",
    "\n",
    "sns.lineplot(x = \"Year\", y =\"Global_Sales\", hue = \"Platform\", data = TOTAL)\n",
    "plt.legend(bbox_to_anchor=(1.05, 1), loc=2, borderaxespad=0.)"
   ]
  },
  {
   "cell_type": "code",
   "execution_count": null,
   "metadata": {},
   "outputs": [],
   "source": [
    "TOTAL_mean = TOTAL.groupby([\"Platform\"])[\"Global_Sales\"].mean().reset_index()\n",
    "TOTAL_mean\n",
    "sns.barplot(x = \"Platform\", y = \"Global_Sales\", data= TOTAL_mean).set_title(\"Total Game Sales by Console (5th-8th Gen)\")"
   ]
  },
  {
   "cell_type": "code",
   "execution_count": null,
   "metadata": {},
   "outputs": [],
   "source": [
    "PC = df[(df[\"Platform\"] == \"PC\")]\n",
    "\n",
    "PC = PC.groupby([\"Year\", \"Platform\"])[\"Global_Sales\"].mean().reset_index()\n",
    "\n",
    "sns.lineplot(x = \"Year\", y =\"Global_Sales\", hue = \"Platform\", data = PC)"
   ]
  },
  {
   "cell_type": "code",
   "execution_count": null,
   "metadata": {},
   "outputs": [],
   "source": [
    "MOB = df[(df[\"Platform\"] == \"DS\") | (df[\"Platform\"] == \"3DS\") | (df[\"Platform\"] == \"GBA\") | (df[\"Platform\"] == \"PSP\") ]\n",
    "\n",
    "MOB = MOB.groupby([\"Year\", \"Platform\"])[\"Global_Sales\"].mean().reset_index()\n",
    "\n",
    "sns.lineplot(x = \"Year\", y =\"Global_Sales\", hue = \"Platform\", data = MOB)"
   ]
  },
  {
   "cell_type": "code",
   "execution_count": null,
   "metadata": {},
   "outputs": [],
   "source": [
    "fig = plt.figure(figsize=(10, 10))\n",
    "fig.subplots_adjust(hspace=0.3, wspace=0.6)\n",
    "ax = fig.add_subplot(2, 3, 1)\n",
    "sns.lineplot(x = \"Year\", y =\"Global_Sales\", hue = \"Platform\", data = Fth, ax=ax).set_title(\"5th Gen\")\n",
    "plt.legend(bbox_to_anchor=(1.05, 1), loc=2, borderaxespad=0.)\n",
    "ax.set(ylim=(0, 5))\n",
    "ax = fig.add_subplot(2, 3, 2)\n",
    "sns.lineplot(x = \"Year\", y =\"Global_Sales\", hue = \"Platform\", data = Sth, ax= ax).set_title(\"6th Gen\")\n",
    "plt.legend(bbox_to_anchor=(1.05, 1), loc=2, borderaxespad=0.)\n",
    "ax.set(ylim=(0, 5))\n",
    "ax = fig.add_subplot(2, 3, 3)\n",
    "sns.lineplot(x = \"Year\", y =\"Global_Sales\", hue = \"Platform\", data = SEVth, ax=ax).set_title(\"7th Gen\")\n",
    "plt.legend(bbox_to_anchor=(1.05, 1), loc=2, borderaxespad=0.)\n",
    "ax.set(ylim=(0, 5))\n",
    "# ax.set_xticklabels(ax.get_xticklabels(), rotation=90)\n",
    "ax = fig.add_subplot(2, 3, 4)\n",
    "sns.lineplot(x = \"Year\", y =\"Global_Sales\", hue = \"Platform\", data = EITth, ax=ax).set_title(\"8th Gen\")\n",
    "plt.legend(bbox_to_anchor=(1.05, 1), loc=2, borderaxespad=0.)\n",
    "ax.set(ylim=(0, 5))\n",
    "ax = fig.add_subplot(2, 3, 5)\n",
    "sns.lineplot(x = \"Year\", y =\"Global_Sales\", hue = \"Platform\", data = PC, ax=ax).set_title(\"PC\")\n",
    "plt.legend(bbox_to_anchor=(1.05, 1), loc=2, borderaxespad=0.)\n",
    "ax.set(ylim=(0, 5))\n",
    "ax = fig.add_subplot(2, 3, 6)\n",
    "sns.lineplot(x = \"Year\", y =\"Global_Sales\", hue = \"Platform\", data = MOB, ax=ax).set_title(\"Handheld\")\n",
    "plt.legend(bbox_to_anchor=(1.05, 1), loc=2, borderaxespad=0.)\n",
    "fig.set_size_inches(15,10)\n",
    "ax.set(ylim=(0, 5))\n",
    "plt.show()"
   ]
  },
  {
   "cell_type": "code",
   "execution_count": null,
   "metadata": {},
   "outputs": [],
   "source": [
    "# Sales by Genre\n",
    "\n",
    "df_genre_glob = df.groupby([\"Genre\"])[\"Global_Sales\"].mean().sort_values(ascending=False)\n",
    "df_genre_glob = df_genre_glob.reset_index()\n",
    "sns.barplot(x = \"Genre\", y = \"Global_Sales\", data= df_genre_glob).set_title(\"Mean Game Global Sales by Genre\")\n",
    "pll.xticks(rotation=45)"
   ]
  },
  {
   "cell_type": "code",
   "execution_count": null,
   "metadata": {},
   "outputs": [],
   "source": [
    "df_genre_NA = df.groupby([\"Genre\"])[\"NA_Sales\"].mean().sort_values(ascending=False)\n",
    "df_genre_NA = df_genre_NA.reset_index()\n",
    "sns.barplot(x = \"Genre\", y = \"NA_Sales\", data= df_genre_NA).set_title(\"Mean Game NA Sales by Genre\")\n",
    "pll.xticks(rotation=45)"
   ]
  },
  {
   "cell_type": "code",
   "execution_count": null,
   "metadata": {},
   "outputs": [],
   "source": [
    "df_genre_EU = df.groupby([\"Genre\"])[\"EU_Sales\"].mean().sort_values(ascending=False)\n",
    "df_genre_EU = df_genre_EU.reset_index()\n",
    "sns.barplot(x = \"Genre\", y = \"EU_Sales\", data= df_genre_EU).set_title(\"Mean Game EU Sales by Genre\")\n",
    "pll.xticks(rotation=45)"
   ]
  },
  {
   "cell_type": "code",
   "execution_count": null,
   "metadata": {},
   "outputs": [],
   "source": [
    "df_genre_JP = df.groupby([\"Genre\"])[\"JP_Sales\"].mean().sort_values(ascending=False)\n",
    "df_genre_JP = df_genre_JP.reset_index()\n",
    "sns.barplot(x = \"Genre\", y = \"JP_Sales\", data= df_genre_JP).set_title(\"Mean Game JP Sales by Genre\")\n",
    "pll.xticks(rotation=45)"
   ]
  }
 ],
 "metadata": {
  "kernelspec": {
   "display_name": "Python 3",
   "language": "python",
   "name": "python3"
  },
  "language_info": {
   "codemirror_mode": {
    "name": "ipython",
    "version": 3
   },
   "file_extension": ".py",
   "mimetype": "text/x-python",
   "name": "python",
   "nbconvert_exporter": "python",
   "pygments_lexer": "ipython3",
   "version": "3.7.3"
  }
 },
 "nbformat": 4,
 "nbformat_minor": 2
}
